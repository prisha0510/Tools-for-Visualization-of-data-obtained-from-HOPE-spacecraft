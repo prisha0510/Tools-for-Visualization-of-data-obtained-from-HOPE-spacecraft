{
 "cells": [
  {
   "cell_type": "code",
   "execution_count": null,
   "id": "12519db3",
   "metadata": {},
   "outputs": [],
   "source": [
    "#This notebook was prepared by Prisha Jain"
   ]
  },
  {
   "cell_type": "code",
   "execution_count": null,
   "id": "6a97f292",
   "metadata": {},
   "outputs": [],
   "source": [
    "from astropy.io import fits"
   ]
  },
  {
   "cell_type": "code",
   "execution_count": null,
   "id": "f7e19102",
   "metadata": {},
   "outputs": [],
   "source": [
    "#function to integrate brightness\n",
    "def integrate_brightness(wavelength, radiance, line_range):\n",
    "# figure out which spectral bins are in the wavelength range\n",
    "    spectral_pos = np.logical_and(line_range[0] < wavelength, wavelength <line_range[1])\n",
    "    spectral_pos = np.where(spectral_pos)\n",
    "# figure our how wide the spectral bins are\n",
    "    wavelength_diff = np.diff(wavelength)\n",
    "# figure out the contribution in R from each spectral bin and add it up\n",
    "    return np.nansum(radiance[spectral_pos]*wavelength_diff[spectral_pos]) # R/nm * nm = R"
   ]
  },
  {
   "cell_type": "code",
   "execution_count": null,
   "id": "0b6578c6",
   "metadata": {},
   "outputs": [],
   "source": [
    "import numpy as np\n",
    "import matplotlib.pyplot as plt\n",
    "test_spa = 45"
   ]
  },
  {
   "cell_type": "code",
   "execution_count": null,
   "id": "84f8a90c",
   "metadata": {},
   "outputs": [],
   "source": [
    "data1 = fits.open(r\"C:\\Users\\prish\\Downloads\\os2, april\\emm_emu_l2a_20210422t021737_0042_os2_sw1of2_f_v01-23.fits.gz\")\n",
    "test_int1 = data1['CAL'].data['CORRECTED_CNTS'].shape[0]//2\n",
    "test_observation_image1 = np.zeros(data1['CAL'].data['RADIANCE'].shape[:2])\n",
    "for i_int in range(data1['CAL'].data['RADIANCE'].shape[0]):\n",
    "    for i_spa in range(data1['CAL'].data['RADIANCE'].shape[1]):\n",
    "        test_observation_image1[i_int, i_spa] =integrate_brightness(data1['WAVELENGTH'].data['WAVELENGTH_L2A'][0, i_spa],data1['CAL'].data['RADIANCE'][i_int, i_spa],[121.56-2.0,121.56+2.0])\n",
    "fig, ax = plt.subplots(1, dpi=100)\n",
    "img1 = ax.imshow(test_observation_image1)\n",
    "cbar = plt.colorbar(img1)\n",
    "cbar.set_label('120.56 nm radiance [R],22 April, 05:27 LST')"
   ]
  },
  {
   "cell_type": "code",
   "execution_count": null,
   "id": "a553207a",
   "metadata": {},
   "outputs": [],
   "source": [
    "data2 = fits.open(r\"C:\\Users\\prish\\Downloads\\os2, april\\emm_emu_l2a_20210422t023458_0042_os2_sw2of2_f_v01-23.fits.gz\")\n",
    "test_int2 = data2['CAL'].data['CORRECTED_CNTS'].shape[0]//2\n",
    "test_observation_image2 = np.zeros(data2['CAL'].data['RADIANCE'].shape[:2])\n",
    "for i_int in range(data2['CAL'].data['RADIANCE'].shape[0]):\n",
    "    for i_spa in range(data2['CAL'].data['RADIANCE'].shape[1]):\n",
    "        test_observation_image2[i_int, i_spa] =integrate_brightness(data2['WAVELENGTH'].data['WAVELENGTH_L2A'][0, i_spa],data2['CAL'].data['RADIANCE'][i_int, i_spa],[121.56-2.0,121.56+2.0])\n",
    "fig, ax = plt.subplots(1, dpi=100)\n",
    "img2 = ax.imshow(test_observation_image2)\n",
    "cbar = plt.colorbar(img2)\n",
    "cbar.set_label('120.56 nm radiance [R],22 April, 05:31 LST')"
   ]
  },
  {
   "cell_type": "code",
   "execution_count": null,
   "id": "22e48fba",
   "metadata": {},
   "outputs": [],
   "source": [
    "data3 = fits.open(r\"C:\\Users\\prish\\Downloads\\os2, april\\emm_emu_l2a_20210422t072541_0042_os2_sw1of2_f_v01-24.fits.gz\")\n",
    "test_int3 = data3['CAL'].data['CORRECTED_CNTS'].shape[0]//2\n",
    "test_observation_image3 = np.zeros(data3['CAL'].data['RADIANCE'].shape[:2])\n",
    "for i_int in range(data3['CAL'].data['RADIANCE'].shape[0]):\n",
    "    for i_spa in range(data3['CAL'].data['RADIANCE'].shape[1]):\n",
    "        test_observation_image3[i_int, i_spa] =integrate_brightness(data3['WAVELENGTH'].data['WAVELENGTH_L2A'][0, i_spa],data3['CAL'].data['RADIANCE'][i_int, i_spa],[121.56-2.0,121.56+2.0])\n",
    "fig, ax = plt.subplots(1, dpi=100)\n",
    "img3 = ax.imshow(test_observation_image3)\n",
    "cbar = plt.colorbar(img3)\n",
    "cbar.set_label('120.56 nm radiance [R],22 April, 07:08 LST')"
   ]
  },
  {
   "cell_type": "code",
   "execution_count": null,
   "id": "fd2c9030",
   "metadata": {},
   "outputs": [],
   "source": [
    "data4 = fits.open(r\"C:\\Users\\prish\\Downloads\\os2, april\\emm_emu_l2a_20210422t074429_0042_os2_sw2of2_f_v01-23.fits.gz\")\n",
    "test_int4 = data4['CAL'].data['CORRECTED_CNTS'].shape[0]//2\n",
    "test_observation_image4 = np.zeros(data4['CAL'].data['RADIANCE'].shape[:2])\n",
    "for i_int in range(data4['CAL'].data['RADIANCE'].shape[0]):\n",
    "    for i_spa in range(data4['CAL'].data['RADIANCE'].shape[1]):\n",
    "        test_observation_image4[i_int, i_spa] =integrate_brightness(data4['WAVELENGTH'].data['WAVELENGTH_L2A'][0, i_spa],data4['CAL'].data['RADIANCE'][i_int, i_spa],[121.56-2.0,121.56+2.0])\n",
    "fig, ax = plt.subplots(1, dpi=100)\n",
    "img4 = ax.imshow(test_observation_image4)\n",
    "cbar = plt.colorbar(img4)\n",
    "cbar.set_label('120.56 nm radiance [R],22 April, 07:16 LST')"
   ]
  },
  {
   "cell_type": "code",
   "execution_count": null,
   "id": "2cdf009d",
   "metadata": {},
   "outputs": [],
   "source": [
    "data6 = fits.open(r\"C:\\Users\\prish\\Downloads\\os1,april\\emm_emu_l2a_20210427t101123_0044_os1_sw1of2_f_v01-23.fits.gz\")\n",
    "test_int6 = data6['CAL'].data['CORRECTED_CNTS'].shape[0]//2\n",
    "test_observation_image6 = np.zeros(data6['CAL'].data['RADIANCE'].shape[:2])\n",
    "for i_int in range(data6['CAL'].data['RADIANCE'].shape[0]):\n",
    "    for i_spa in range(data6['CAL'].data['RADIANCE'].shape[1]):\n",
    "        test_observation_image6[i_int, i_spa] =integrate_brightness(data6['WAVELENGTH'].data['WAVELENGTH_L2A'][0, i_spa],data6['CAL'].data['RADIANCE'][i_int, i_spa],[133.6,137.6])\n",
    "fig, ax = plt.subplots(1, dpi=100)\n",
    "img6 = ax.imshow(test_observation_image6)\n",
    "cbar = plt.colorbar(img6)\n",
    "cbar.set_label('135.6 nm radiance [R],27 April, 16:26 LST')"
   ]
  },
  {
   "cell_type": "code",
   "execution_count": null,
   "id": "652d62b9",
   "metadata": {},
   "outputs": [],
   "source": [
    "data7 = fits.open(r\"C:\\Users\\prish\\Downloads\\os1,april\\emm_emu_l2a_20210427t103256_0044_os1_sw2of2_f_v01-24.fits.gz\")\n",
    "test_int7 = data7['CAL'].data['CORRECTED_CNTS'].shape[0]//2\n",
    "test_observation_image7 = np.zeros(data7['CAL'].data['RADIANCE'].shape[:2])\n",
    "for i_int in range(data7['CAL'].data['RADIANCE'].shape[0]):\n",
    "    for i_spa in range(data7['CAL'].data['RADIANCE'].shape[1]):\n",
    "        test_observation_image7[i_int, i_spa] =integrate_brightness(data7['WAVELENGTH'].data['WAVELENGTH_L2A'][0, i_spa],data7['CAL'].data['RADIANCE'][i_int, i_spa],[133.6,137.6])\n",
    "fig, ax = plt.subplots(1, dpi=100)\n",
    "img7 = ax.imshow(test_observation_image7)\n",
    "cbar = plt.colorbar(img7)\n",
    "cbar.set_label('135.6 nm radiance [R],27 April, 16:43 LST')"
   ]
  },
  {
   "cell_type": "code",
   "execution_count": null,
   "id": "a30575b2",
   "metadata": {},
   "outputs": [],
   "source": [
    "test_observation_image7.shape"
   ]
  },
  {
   "cell_type": "code",
   "execution_count": null,
   "id": "79cc4050",
   "metadata": {},
   "outputs": [],
   "source": [
    "test_observation_image6.shape"
   ]
  },
  {
   "cell_type": "code",
   "execution_count": null,
   "id": "65e6c70a",
   "metadata": {},
   "outputs": [],
   "source": [
    "#cut images appropriately so that they can be combined, this will have to be done repeatedly many times depending on the file you have\n",
    "test_observation_image7 = np.delete(test_observation_image7, np.s_[83:85], 1) "
   ]
  },
  {
   "cell_type": "code",
   "execution_count": null,
   "id": "158079e6",
   "metadata": {},
   "outputs": [],
   "source": [
    "#cut images appropriately so that they can be combined, this will have to be done repeatedly many times depending on the file you have\n",
    "test_observation_image7 = np.delete(test_observation_image7, np.s_[83:85], 1) \n",
    "test_observation_image6 = np.delete(test_observation_image6, np.s_[0:2], 1) "
   ]
  },
  {
   "cell_type": "code",
   "execution_count": null,
   "id": "37c09caa",
   "metadata": {},
   "outputs": [],
   "source": [
    "#stacking the images horizontally so as to combine them.\n",
    "arr1=np.hstack((test_observation_image7, test_observation_image6))\n",
    "fig, ax = plt.subplots(1, dpi=100)\n",
    "img = ax.imshow(arr1)\n",
    "cbar = plt.colorbar(img)\n",
    "cbar.set_label('27 April 2022, os1')"
   ]
  },
  {
   "cell_type": "code",
   "execution_count": null,
   "id": "c0bff46f",
   "metadata": {},
   "outputs": [],
   "source": [
    "#The os2 mode data can be followed in the exact same manner as os1."
   ]
  }
 ],
 "metadata": {
  "kernelspec": {
   "display_name": "Python 3 (ipykernel)",
   "language": "python",
   "name": "python3"
  },
  "language_info": {
   "codemirror_mode": {
    "name": "ipython",
    "version": 3
   },
   "file_extension": ".py",
   "mimetype": "text/x-python",
   "name": "python",
   "nbconvert_exporter": "python",
   "pygments_lexer": "ipython3",
   "version": "3.9.7"
  }
 },
 "nbformat": 4,
 "nbformat_minor": 5
}
