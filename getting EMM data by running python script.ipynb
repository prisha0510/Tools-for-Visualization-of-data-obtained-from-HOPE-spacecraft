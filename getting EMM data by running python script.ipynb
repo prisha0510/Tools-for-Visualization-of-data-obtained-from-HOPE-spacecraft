{
 "cells": [
  {
   "cell_type": "code",
   "execution_count": 1,
   "id": "2729828a",
   "metadata": {},
   "outputs": [],
   "source": [
    "#This notebook was created by Prisha Jain"
   ]
  },
  {
   "cell_type": "code",
   "execution_count": 2,
   "id": "d85b4751",
   "metadata": {},
   "outputs": [],
   "source": [
    "import os"
   ]
  },
  {
   "cell_type": "code",
   "execution_count": 3,
   "id": "d4317eeb",
   "metadata": {},
   "outputs": [],
   "source": [
    "#changes directory to the one you specify\n",
    "os.chdir('C:/Users/prish/Downloads/')"
   ]
  },
  {
   "cell_type": "code",
   "execution_count": 4,
   "id": "635808a0",
   "metadata": {},
   "outputs": [],
   "source": [
    "import emm_api\n",
    "import requests\n",
    "from emm_api import*\n",
    "from requests import*"
   ]
  },
  {
   "cell_type": "code",
   "execution_count": 5,
   "id": "537b6369",
   "metadata": {},
   "outputs": [],
   "source": [
    "directory=os.getcwd()"
   ]
  },
  {
   "cell_type": "code",
   "execution_count": 6,
   "id": "43b3b993",
   "metadata": {},
   "outputs": [
    {
     "name": "stdout",
     "output_type": "stream",
     "text": [
      "New login needed.  Login is valid for 60 minutes.\n",
      "Username:prisha05\n",
      "Password for prisha05:········\n",
      "emm_emr_l3atm_20210805t222804_0090_r_v01-16.fits\n",
      "emm_emr_l3atm_20210805t194548_0089_r_v01-16.fits\n",
      "emm_emr_l3atm_20210805t143515_0089_r_v01-16.fits\n",
      "emm_emr_l3atm_20210805t092302_0089_r_v01-16.fits\n",
      "emm_emr_l3atm_20210805t060829_0089_r_v01-16.fits\n",
      "emm_emr_l3atm_20210805t010653_0089_r_v01-16.fits\n"
     ]
    }
   ],
   "source": [
    "#to login and print the names of all files with the user given parameters\n",
    "file_list = emm_api.query_science_files(instrument='emr',level='l3atm',start_date='2021-08-05',end_date='2021-08-06')\n",
    "for file in file_list:\n",
    "    print(file['file_name'])"
   ]
  },
  {
   "cell_type": "code",
   "execution_count": 7,
   "id": "1846e4f3",
   "metadata": {},
   "outputs": [],
   "source": [
    "#to download data, with specific parameters\n",
    "emm_search_and_download(download_dir=directory, instrument='emr',level='l3atm',start_date='2021-08-05',end_date='2021-08-06')"
   ]
  }
 ],
 "metadata": {
  "kernelspec": {
   "display_name": "Python 3 (ipykernel)",
   "language": "python",
   "name": "python3"
  },
  "language_info": {
   "codemirror_mode": {
    "name": "ipython",
    "version": 3
   },
   "file_extension": ".py",
   "mimetype": "text/x-python",
   "name": "python",
   "nbconvert_exporter": "python",
   "pygments_lexer": "ipython3",
   "version": "3.9.7"
  }
 },
 "nbformat": 4,
 "nbformat_minor": 5
}
